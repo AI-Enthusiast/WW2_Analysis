{
 "cells": [
  {
   "cell_type": "code",
   "execution_count": 15,
   "id": "initial_id",
   "metadata": {
    "collapsed": true,
    "ExecuteTime": {
     "end_time": "2024-07-02T05:32:49.426189300Z",
     "start_time": "2024-07-02T05:32:49.402984800Z"
    }
   },
   "outputs": [
    {
     "data": {
      "text/plain": "'C:\\\\Users\\\\corma\\\\DataspellProjects\\\\WW2_Analysis'"
     },
     "execution_count": 15,
     "metadata": {},
     "output_type": "execute_result"
    }
   ],
   "source": [
    "import wikipedia # pip3 install wikipedia\n",
    "from wikipedia import exceptions\n",
    "import pandas as pd # pip3 install pandas\n",
    "import os\n",
    "import fuzzywuzzy # pip3 install fuzzywuzzy\n",
    "\n",
    "root = os.path.dirname(os.path.abspath('wiki_scraper.ipynb'))\n",
    "root"
   ]
  },
  {
   "cell_type": "code",
   "execution_count": 2,
   "outputs": [
    {
     "data": {
      "text/plain": "   Unnamed: 0          Name                        Class          Country  \\\n0           0  A (Planned)            No Classification          Germany    \n1           1       ABSD-1            No Classification    United States    \n2           2       ABSD-2            No Classification    United States    \n3           3      Abukuma   Nagara-class Light Cruiser            Japan    \n4           4       Acasta      A and B-class Destroyer   United Kingdom    \n\n  Launch Year  \n0              \n1              \n2              \n3       1923   \n4       1929   ",
      "text/html": "<div>\n<style scoped>\n    .dataframe tbody tr th:only-of-type {\n        vertical-align: middle;\n    }\n\n    .dataframe tbody tr th {\n        vertical-align: top;\n    }\n\n    .dataframe thead th {\n        text-align: right;\n    }\n</style>\n<table border=\"1\" class=\"dataframe\">\n  <thead>\n    <tr style=\"text-align: right;\">\n      <th></th>\n      <th>Unnamed: 0</th>\n      <th>Name</th>\n      <th>Class</th>\n      <th>Country</th>\n      <th>Launch Year</th>\n    </tr>\n  </thead>\n  <tbody>\n    <tr>\n      <th>0</th>\n      <td>0</td>\n      <td>A (Planned)</td>\n      <td>No Classification</td>\n      <td>Germany</td>\n      <td></td>\n    </tr>\n    <tr>\n      <th>1</th>\n      <td>1</td>\n      <td>ABSD-1</td>\n      <td>No Classification</td>\n      <td>United States</td>\n      <td></td>\n    </tr>\n    <tr>\n      <th>2</th>\n      <td>2</td>\n      <td>ABSD-2</td>\n      <td>No Classification</td>\n      <td>United States</td>\n      <td></td>\n    </tr>\n    <tr>\n      <th>3</th>\n      <td>3</td>\n      <td>Abukuma</td>\n      <td>Nagara-class Light Cruiser</td>\n      <td>Japan</td>\n      <td>1923</td>\n    </tr>\n    <tr>\n      <th>4</th>\n      <td>4</td>\n      <td>Acasta</td>\n      <td>A and B-class Destroyer</td>\n      <td>United Kingdom</td>\n      <td>1929</td>\n    </tr>\n  </tbody>\n</table>\n</div>"
     },
     "execution_count": 2,
     "metadata": {},
     "output_type": "execute_result"
    }
   ],
   "source": [
    "# read in /data/kaggle/ships.csv\n",
    "ships = pd.read_csv(os.path.join(root, 'data', 'kaggle', 'ships.csv'))\n",
    "ships.head()"
   ],
   "metadata": {
    "collapsed": false,
    "ExecuteTime": {
     "end_time": "2024-07-02T05:27:36.505566200Z",
     "start_time": "2024-07-02T05:27:36.419830200Z"
    }
   },
   "id": "ff8a7b3cbd461e22"
  },
  {
   "cell_type": "code",
   "execution_count": 3,
   "outputs": [],
   "source": [
    "# only keep ships with 'U-' prefix, this will capture all Type VII-class Submarine, Type IX-class Submarine, Type XXI-class Submarine, Type II-class Submarine, Type XIV-class Cargo Submarines\n",
    "ships = ships[ships['Name'].str.startswith('U-')]"
   ],
   "metadata": {
    "collapsed": false,
    "ExecuteTime": {
     "end_time": "2024-07-02T05:27:36.505566200Z",
     "start_time": "2024-07-02T05:27:36.464231500Z"
    }
   },
   "id": "8ad3172f3045299a"
  },
  {
   "cell_type": "code",
   "execution_count": 4,
   "outputs": [],
   "source": [
    "# saves as u_boats.csv\n",
    "ships.to_csv(os.path.join(root, 'data', 'kaggle', 'u_boats.csv'), index=False)"
   ],
   "metadata": {
    "collapsed": false,
    "ExecuteTime": {
     "end_time": "2024-07-02T05:27:36.505566200Z",
     "start_time": "2024-07-02T05:27:36.464231500Z"
    }
   },
   "id": "29ea8d9a71f754b1"
  },
  {
   "cell_type": "code",
   "execution_count": 5,
   "outputs": [
    {
     "data": {
      "text/plain": "      Unnamed: 0     Name                      Class   Country Launch Year\n1302        1302     U-1    Type II-class Submarine   Germany        1935 \n1303        1303    U-10    Type II-class Submarine   Germany        1935 \n1304        1304   U-100   Type VII-class Submarine   Germany        1940 \n1305        1305   U-101   Type VII-class Submarine   Germany        1940 \n1306        1306  U-1011   Type VII-class Submarine   Germany             ",
      "text/html": "<div>\n<style scoped>\n    .dataframe tbody tr th:only-of-type {\n        vertical-align: middle;\n    }\n\n    .dataframe tbody tr th {\n        vertical-align: top;\n    }\n\n    .dataframe thead th {\n        text-align: right;\n    }\n</style>\n<table border=\"1\" class=\"dataframe\">\n  <thead>\n    <tr style=\"text-align: right;\">\n      <th></th>\n      <th>Unnamed: 0</th>\n      <th>Name</th>\n      <th>Class</th>\n      <th>Country</th>\n      <th>Launch Year</th>\n    </tr>\n  </thead>\n  <tbody>\n    <tr>\n      <th>1302</th>\n      <td>1302</td>\n      <td>U-1</td>\n      <td>Type II-class Submarine</td>\n      <td>Germany</td>\n      <td>1935</td>\n    </tr>\n    <tr>\n      <th>1303</th>\n      <td>1303</td>\n      <td>U-10</td>\n      <td>Type II-class Submarine</td>\n      <td>Germany</td>\n      <td>1935</td>\n    </tr>\n    <tr>\n      <th>1304</th>\n      <td>1304</td>\n      <td>U-100</td>\n      <td>Type VII-class Submarine</td>\n      <td>Germany</td>\n      <td>1940</td>\n    </tr>\n    <tr>\n      <th>1305</th>\n      <td>1305</td>\n      <td>U-101</td>\n      <td>Type VII-class Submarine</td>\n      <td>Germany</td>\n      <td>1940</td>\n    </tr>\n    <tr>\n      <th>1306</th>\n      <td>1306</td>\n      <td>U-1011</td>\n      <td>Type VII-class Submarine</td>\n      <td>Germany</td>\n      <td></td>\n    </tr>\n  </tbody>\n</table>\n</div>"
     },
     "execution_count": 5,
     "metadata": {},
     "output_type": "execute_result"
    }
   ],
   "source": [
    "ships.head()"
   ],
   "metadata": {
    "collapsed": false,
    "ExecuteTime": {
     "end_time": "2024-07-02T05:27:36.505566200Z",
     "start_time": "2024-07-02T05:27:36.478093300Z"
    }
   },
   "id": "62e7d0d08ca19c75"
  },
  {
   "cell_type": "code",
   "execution_count": 6,
   "outputs": [
    {
     "data": {
      "text/plain": "array(['Type II-class Submarine\\xa0', 'Type VII-class Submarine\\xa0',\n       'Type IX-class Submarine\\xa0', 'Type XI-class Submarine\\xa0',\n       'Type X-class Minelaying Submarine\\xa0',\n       'Type XXIII-class Submarine\\xa0', 'Type I-class Submarine\\xa0',\n       'Type XXI-class Submarine\\xa0',\n       'Type XIV-class Cargo Submarine\\xa0'], dtype=object)"
     },
     "execution_count": 6,
     "metadata": {},
     "output_type": "execute_result"
    }
   ],
   "source": [
    "ships['Class'].unique()"
   ],
   "metadata": {
    "collapsed": false,
    "ExecuteTime": {
     "end_time": "2024-07-02T05:27:36.505566200Z",
     "start_time": "2024-07-02T05:27:36.492616100Z"
    }
   },
   "id": "c02e4ae21e14b1f4"
  },
  {
   "cell_type": "code",
   "execution_count": 7,
   "outputs": [
    {
     "name": "stdout",
     "output_type": "stream",
     "text": [
      "['Type XXIII submarine', 'German submarine U-2323', 'Smile (disambiguation)', 'List of U-boats never deployed', 'Tie (typography)', 'List of U-boats of Germany', 'Port Chicago disaster', 'July 1944', 'HMS Dragon (D46)', 'List of XML and HTML character entity references']\n"
     ]
    }
   ],
   "source": [
    "print(wikipedia.search('U-2323'))"
   ],
   "metadata": {
    "collapsed": false,
    "ExecuteTime": {
     "end_time": "2024-07-02T05:27:37.176043700Z",
     "start_time": "2024-07-02T05:27:36.505566200Z"
    }
   },
   "id": "eb01ba757786f5c2"
  },
  {
   "cell_type": "code",
   "execution_count": 8,
   "outputs": [
    {
     "name": "stdout",
     "output_type": "stream",
     "text": [
      "German submarine U-2323\n"
     ]
    }
   ],
   "source": [
    "test_cast = wikipedia.page('German submarine U-2323')\n",
    "print(test_cast.title)"
   ],
   "metadata": {
    "collapsed": false,
    "ExecuteTime": {
     "end_time": "2024-07-02T05:27:38.112721900Z",
     "start_time": "2024-07-02T05:27:37.160404400Z"
    }
   },
   "id": "e8dc2b0159db83e"
  },
  {
   "cell_type": "code",
   "execution_count": 9,
   "outputs": [
    {
     "name": "stdout",
     "output_type": "stream",
     "text": [
      "https://en.wikipedia.org/wiki/German_submarine_U-2323\n"
     ]
    }
   ],
   "source": [
    "print(test_cast.url)"
   ],
   "metadata": {
    "collapsed": false,
    "ExecuteTime": {
     "end_time": "2024-07-02T05:27:38.112721900Z",
     "start_time": "2024-07-02T05:27:38.112721900Z"
    }
   },
   "id": "1a16f032b9ea8ccb"
  },
  {
   "cell_type": "code",
   "execution_count": 10,
   "outputs": [
    {
     "name": "stdout",
     "output_type": "stream",
     "text": [
      "[]\n"
     ]
    }
   ],
   "source": [
    "print(test_cast.sections)"
   ],
   "metadata": {
    "collapsed": false,
    "ExecuteTime": {
     "end_time": "2024-07-02T05:27:38.539458600Z",
     "start_time": "2024-07-02T05:27:38.112721900Z"
    }
   },
   "id": "6854e6768d04a9c7"
  },
  {
   "cell_type": "code",
   "execution_count": 11,
   "outputs": [
    {
     "name": "stdout",
     "output_type": "stream",
     "text": [
      "German submarine U-2323 was a Type XXIII submarine of Nazi Germany's Kriegsmarine during World War II. She was constructed at Hamburg during the spring of 1944, completed on the 18 July and given to Leutnant zur See Walter Angermann to command. A fast high-technology coastal boat, U-2323 was expected to be the new war-winning weapon in the Kriegsmarine's arsenal.\n"
     ]
    }
   ],
   "source": [
    "print(test_cast.summary)"
   ],
   "metadata": {
    "collapsed": false,
    "ExecuteTime": {
     "end_time": "2024-07-02T05:27:38.936878900Z",
     "start_time": "2024-07-02T05:27:38.539458600Z"
    }
   },
   "id": "713698822dddb99e"
  },
  {
   "cell_type": "code",
   "execution_count": 12,
   "outputs": [
    {
     "name": "stdout",
     "output_type": "stream",
     "text": [
      "German submarine U-2323 was a Type XXIII submarine of Nazi Germany's Kriegsmarine during World War II. She was constructed at Hamburg during the spring of 1944, completed on the 18 July and given to Leutnant zur See Walter Angermann to command. A fast high-technology coastal boat, U-2323 was expected to be the new war-winning weapon in the Kriegsmarine's arsenal.\n",
      "\n",
      "\n",
      "== Design ==\n",
      "Like all Type XXIII U-boats, U-2323 had a displacement of 234 tonnes (230 long tons) when at the surface and 258 tonnes (254 long tons) while submerged. She had a total length of 34.68 m (113 ft 9 in) (o/a), a beam width of 3.02 m (9 ft 11 in) (o/a), and a draught depth of3.66 m (12 ft). The submarine was powered by one MWM six-cylinder RS134S diesel engine providing 575–630 metric horsepower (423–463 kilowatts; 567–621 shaft horsepower), one AEG GU4463-8 double-acting electric motor electric motor providing 580 PS (430 kW; 570 shp), and one BBC silent running CCR188 electric motor providing 35 PS (26 kW; 35 shp).\n",
      "The submarine had a maximum surface speed of 9.7 knots (18.0 km/h; 11.2 mph) and a submerged speed of 12.5 knots (23.2 km/h; 14.4 mph). When submerged, the boat could operate at 4 knots (7.4 km/h; 4.6 mph) for 194 nautical miles (359 km; 223 mi); when surfaced, she could travel 2,600 nautical miles (4,800 km; 3,000 mi) at 8 knots (15 km/h; 9.2 mph). U-2323 was fitted with two 53.3 cm (21 in) torpedo tubes in the bow. She could carry two preloaded torpedoes. The complement was 14–18 men. This class of U-boat did not carry a deck gun.\n",
      "\n",
      "\n",
      "== Service history ==\n",
      "The seas around the German coastline were subject to very heavy allied attack during the final two years of the war, as the Royal Air Force sought to restrict German movement around their coasts by sowing thousands of air-dropped naval mines, thus delaying the production and training of new boats, disrupting coastal shipping and destroying several boats before they could become involved in the Battle of the Atlantic.\n",
      "The U-2323 was a victim of this campaign, when on the 26 July 1944, just eight days old, she was sunk off Möltenort at the entrance to Kiel harbour on her maiden voyage. Two of her crew were killed in the blast, although the survivors managed to safely reach the shore. They were then transferred to other units. The holed boat was raised in early 1945, but was still undergoing repairs in Kiel at the time of the German surrender. It was broken up in situ post-war.\n",
      "\n",
      "\n",
      "== References ==\n",
      "\n",
      "\n",
      "== Bibliography ==\n",
      "\n",
      "\n",
      "== External links ==\n",
      "Helgason, Guðmundur. \"The Type XXIII boat U-2323\". German U-boats of WWII - uboat.net. Retrieved 6 December 2014.\n"
     ]
    }
   ],
   "source": [
    "print(test_cast.content)"
   ],
   "metadata": {
    "collapsed": false,
    "ExecuteTime": {
     "end_time": "2024-07-02T05:27:39.371660100Z",
     "start_time": "2024-07-02T05:27:38.936878900Z"
    }
   },
   "id": "c870ded23a75f454"
  },
  {
   "cell_type": "code",
   "execution_count": 12,
   "outputs": [],
   "source": [],
   "metadata": {
    "collapsed": false,
    "ExecuteTime": {
     "end_time": "2024-07-02T05:27:39.377921200Z",
     "start_time": "2024-07-02T05:27:39.371660100Z"
    }
   },
   "id": "ad9816248653b0d7"
  },
  {
   "cell_type": "markdown",
   "source": [],
   "metadata": {
    "collapsed": false
   },
   "id": "68b862a186165172"
  },
  {
   "cell_type": "code",
   "execution_count": 12,
   "outputs": [],
   "source": [],
   "metadata": {
    "collapsed": false,
    "ExecuteTime": {
     "end_time": "2024-07-02T05:27:39.377921200Z",
     "start_time": "2024-07-02T05:27:39.377921200Z"
    }
   },
   "id": "e6a665084760e6c6"
  },
  {
   "cell_type": "code",
   "execution_count": 13,
   "outputs": [
    {
     "name": "stdout",
     "output_type": "stream",
     "text": [
      "['10th U-boat Flotilla', '11th U-boat Flotilla', '12th U-boat Flotilla', '13th U-boat Flotilla', '14th U-boat Flotilla', '18th U-boat Flotilla', '19th U-boat Flotilla', '1st U-boat Flotilla', '20th U-boat Flotilla', '21st U-boat Flotilla']\n"
     ]
    }
   ],
   "source": [
    "# https://en.wikipedia.org/wiki/List_of_U-boats_of_Germany\n",
    "u_boats = wikipedia.page('List of U-boats of Germany').links\n",
    "print(u_boats[:10])"
   ],
   "metadata": {
    "collapsed": false,
    "ExecuteTime": {
     "end_time": "2024-07-02T05:27:42.308511900Z",
     "start_time": "2024-07-02T05:27:39.392042500Z"
    }
   },
   "id": "9f0450da13f8fa0c"
  },
  {
   "cell_type": "code",
   "execution_count": 17,
   "outputs": [
    {
     "ename": "PageError",
     "evalue": "Page id \"german submarine u 515\" does not match any pages. Try another id!",
     "output_type": "error",
     "traceback": [
      "\u001B[1;31m---------------------------------------------------------------------------\u001B[0m",
      "\u001B[1;31mPageError\u001B[0m                                 Traceback (most recent call last)",
      "Cell \u001B[1;32mIn[17], line 6\u001B[0m\n\u001B[0;32m      5\u001B[0m \u001B[38;5;28;01mtry\u001B[39;00m:\n\u001B[1;32m----> 6\u001B[0m     u_boats_urls\u001B[38;5;241m.\u001B[39mappend(wikipedia\u001B[38;5;241m.\u001B[39mpage(boat)\u001B[38;5;241m.\u001B[39murl)\n\u001B[0;32m      7\u001B[0m \u001B[38;5;28;01mexcept\u001B[39;00m exceptions\u001B[38;5;241m.\u001B[39mPageError:\n\u001B[0;32m      8\u001B[0m     \u001B[38;5;66;03m# search for the page\u001B[39;00m\n\u001B[0;32m      9\u001B[0m     \u001B[38;5;66;03m#   try:\u001B[39;00m\n",
      "File \u001B[1;32m~\\anaconda3\\envs\\WW2_Analysis\\Lib\\site-packages\\wikipedia\\wikipedia.py:276\u001B[0m, in \u001B[0;36mpage\u001B[1;34m(title, pageid, auto_suggest, redirect, preload)\u001B[0m\n\u001B[0;32m    275\u001B[0m       \u001B[38;5;28;01mraise\u001B[39;00m PageError(title)\n\u001B[1;32m--> 276\u001B[0m   \u001B[38;5;28;01mreturn\u001B[39;00m WikipediaPage(title, redirect\u001B[38;5;241m=\u001B[39mredirect, preload\u001B[38;5;241m=\u001B[39mpreload)\n\u001B[0;32m    277\u001B[0m \u001B[38;5;28;01melif\u001B[39;00m pageid \u001B[38;5;129;01mis\u001B[39;00m \u001B[38;5;129;01mnot\u001B[39;00m \u001B[38;5;28;01mNone\u001B[39;00m:\n",
      "File \u001B[1;32m~\\anaconda3\\envs\\WW2_Analysis\\Lib\\site-packages\\wikipedia\\wikipedia.py:299\u001B[0m, in \u001B[0;36mWikipediaPage.__init__\u001B[1;34m(self, title, pageid, redirect, preload, original_title)\u001B[0m\n\u001B[0;32m    297\u001B[0m   \u001B[38;5;28;01mraise\u001B[39;00m \u001B[38;5;167;01mValueError\u001B[39;00m(\u001B[38;5;124m\"\u001B[39m\u001B[38;5;124mEither a title or a pageid must be specified\u001B[39m\u001B[38;5;124m\"\u001B[39m)\n\u001B[1;32m--> 299\u001B[0m \u001B[38;5;28mself\u001B[39m\u001B[38;5;241m.\u001B[39m__load(redirect\u001B[38;5;241m=\u001B[39mredirect, preload\u001B[38;5;241m=\u001B[39mpreload)\n\u001B[0;32m    301\u001B[0m \u001B[38;5;28;01mif\u001B[39;00m preload:\n",
      "File \u001B[1;32m~\\anaconda3\\envs\\WW2_Analysis\\Lib\\site-packages\\wikipedia\\wikipedia.py:345\u001B[0m, in \u001B[0;36mWikipediaPage.__load\u001B[1;34m(self, redirect, preload)\u001B[0m\n\u001B[0;32m    344\u001B[0m \u001B[38;5;28;01mif\u001B[39;00m \u001B[38;5;28mhasattr\u001B[39m(\u001B[38;5;28mself\u001B[39m, \u001B[38;5;124m'\u001B[39m\u001B[38;5;124mtitle\u001B[39m\u001B[38;5;124m'\u001B[39m):\n\u001B[1;32m--> 345\u001B[0m   \u001B[38;5;28;01mraise\u001B[39;00m PageError(\u001B[38;5;28mself\u001B[39m\u001B[38;5;241m.\u001B[39mtitle)\n\u001B[0;32m    346\u001B[0m \u001B[38;5;28;01melse\u001B[39;00m:\n",
      "\u001B[1;31mPageError\u001B[0m: Page id \"19th u boat flotilla\" does not match any pages. Try another id!",
      "\nDuring handling of the above exception, another exception occurred:\n",
      "\u001B[1;31mPageError\u001B[0m                                 Traceback (most recent call last)",
      "Cell \u001B[1;32mIn[17], line 10\u001B[0m\n\u001B[0;32m      6\u001B[0m     u_boats_urls\u001B[38;5;241m.\u001B[39mappend(wikipedia\u001B[38;5;241m.\u001B[39mpage(boat)\u001B[38;5;241m.\u001B[39murl)\n\u001B[0;32m      7\u001B[0m \u001B[38;5;28;01mexcept\u001B[39;00m exceptions\u001B[38;5;241m.\u001B[39mPageError:\n\u001B[0;32m      8\u001B[0m     \u001B[38;5;66;03m# search for the page\u001B[39;00m\n\u001B[0;32m      9\u001B[0m     \u001B[38;5;66;03m#   try:\u001B[39;00m\n\u001B[1;32m---> 10\u001B[0m     pages \u001B[38;5;241m=\u001B[39m wikipedia\u001B[38;5;241m.\u001B[39mpage(wikipedia\u001B[38;5;241m.\u001B[39msearch(boat))\n\u001B[0;32m     11\u001B[0m     best_match_score, best_match \u001B[38;5;241m=\u001B[39m \u001B[38;5;241m0\u001B[39m, \u001B[38;5;28;01mNone\u001B[39;00m\n\u001B[0;32m     12\u001B[0m     \u001B[38;5;28;01mfor\u001B[39;00m page \u001B[38;5;129;01min\u001B[39;00m pages:\n",
      "File \u001B[1;32m~\\anaconda3\\envs\\WW2_Analysis\\Lib\\site-packages\\wikipedia\\wikipedia.py:276\u001B[0m, in \u001B[0;36mpage\u001B[1;34m(title, pageid, auto_suggest, redirect, preload)\u001B[0m\n\u001B[0;32m    273\u001B[0m     \u001B[38;5;28;01mexcept\u001B[39;00m \u001B[38;5;167;01mIndexError\u001B[39;00m:\n\u001B[0;32m    274\u001B[0m       \u001B[38;5;66;03m# if there is no suggestion or search results, the page doesn't exist\u001B[39;00m\n\u001B[0;32m    275\u001B[0m       \u001B[38;5;28;01mraise\u001B[39;00m PageError(title)\n\u001B[1;32m--> 276\u001B[0m   \u001B[38;5;28;01mreturn\u001B[39;00m WikipediaPage(title, redirect\u001B[38;5;241m=\u001B[39mredirect, preload\u001B[38;5;241m=\u001B[39mpreload)\n\u001B[0;32m    277\u001B[0m \u001B[38;5;28;01melif\u001B[39;00m pageid \u001B[38;5;129;01mis\u001B[39;00m \u001B[38;5;129;01mnot\u001B[39;00m \u001B[38;5;28;01mNone\u001B[39;00m:\n\u001B[0;32m    278\u001B[0m   \u001B[38;5;28;01mreturn\u001B[39;00m WikipediaPage(pageid\u001B[38;5;241m=\u001B[39mpageid, preload\u001B[38;5;241m=\u001B[39mpreload)\n",
      "File \u001B[1;32m~\\anaconda3\\envs\\WW2_Analysis\\Lib\\site-packages\\wikipedia\\wikipedia.py:299\u001B[0m, in \u001B[0;36mWikipediaPage.__init__\u001B[1;34m(self, title, pageid, redirect, preload, original_title)\u001B[0m\n\u001B[0;32m    296\u001B[0m \u001B[38;5;28;01melse\u001B[39;00m:\n\u001B[0;32m    297\u001B[0m   \u001B[38;5;28;01mraise\u001B[39;00m \u001B[38;5;167;01mValueError\u001B[39;00m(\u001B[38;5;124m\"\u001B[39m\u001B[38;5;124mEither a title or a pageid must be specified\u001B[39m\u001B[38;5;124m\"\u001B[39m)\n\u001B[1;32m--> 299\u001B[0m \u001B[38;5;28mself\u001B[39m\u001B[38;5;241m.\u001B[39m__load(redirect\u001B[38;5;241m=\u001B[39mredirect, preload\u001B[38;5;241m=\u001B[39mpreload)\n\u001B[0;32m    301\u001B[0m \u001B[38;5;28;01mif\u001B[39;00m preload:\n\u001B[0;32m    302\u001B[0m   \u001B[38;5;28;01mfor\u001B[39;00m prop \u001B[38;5;129;01min\u001B[39;00m (\u001B[38;5;124m'\u001B[39m\u001B[38;5;124mcontent\u001B[39m\u001B[38;5;124m'\u001B[39m, \u001B[38;5;124m'\u001B[39m\u001B[38;5;124msummary\u001B[39m\u001B[38;5;124m'\u001B[39m, \u001B[38;5;124m'\u001B[39m\u001B[38;5;124mimages\u001B[39m\u001B[38;5;124m'\u001B[39m, \u001B[38;5;124m'\u001B[39m\u001B[38;5;124mreferences\u001B[39m\u001B[38;5;124m'\u001B[39m, \u001B[38;5;124m'\u001B[39m\u001B[38;5;124mlinks\u001B[39m\u001B[38;5;124m'\u001B[39m, \u001B[38;5;124m'\u001B[39m\u001B[38;5;124msections\u001B[39m\u001B[38;5;124m'\u001B[39m):\n",
      "File \u001B[1;32m~\\anaconda3\\envs\\WW2_Analysis\\Lib\\site-packages\\wikipedia\\wikipedia.py:345\u001B[0m, in \u001B[0;36mWikipediaPage.__load\u001B[1;34m(self, redirect, preload)\u001B[0m\n\u001B[0;32m    343\u001B[0m \u001B[38;5;28;01mif\u001B[39;00m \u001B[38;5;124m'\u001B[39m\u001B[38;5;124mmissing\u001B[39m\u001B[38;5;124m'\u001B[39m \u001B[38;5;129;01min\u001B[39;00m page:\n\u001B[0;32m    344\u001B[0m   \u001B[38;5;28;01mif\u001B[39;00m \u001B[38;5;28mhasattr\u001B[39m(\u001B[38;5;28mself\u001B[39m, \u001B[38;5;124m'\u001B[39m\u001B[38;5;124mtitle\u001B[39m\u001B[38;5;124m'\u001B[39m):\n\u001B[1;32m--> 345\u001B[0m     \u001B[38;5;28;01mraise\u001B[39;00m PageError(\u001B[38;5;28mself\u001B[39m\u001B[38;5;241m.\u001B[39mtitle)\n\u001B[0;32m    346\u001B[0m   \u001B[38;5;28;01melse\u001B[39;00m:\n\u001B[0;32m    347\u001B[0m     \u001B[38;5;28;01mraise\u001B[39;00m PageError(pageid\u001B[38;5;241m=\u001B[39m\u001B[38;5;28mself\u001B[39m\u001B[38;5;241m.\u001B[39mpageid)\n",
      "\u001B[1;31mPageError\u001B[0m: Page id \"german submarine u 515\" does not match any pages. Try another id!"
     ]
    }
   ],
   "source": [
    "# get the url for each u-boat\n",
    "u_boats_urls = []\n",
    "no_metadata = []\n",
    "for boat in u_boats:\n",
    "    try:\n",
    "        u_boats_urls.append(wikipedia.page(boat).url)\n",
    "    except exceptions.PageError:\n",
    "        # search for the page\n",
    "        #   try:\n",
    "        pages = wikipedia.page(wikipedia.search(boat))\n",
    "        best_match_score, best_match = 0, None\n",
    "        for page in pages:\n",
    "            score = fuzzywuzzy.fuzz.ratio(boat, page)\n",
    "            if score > best_match_score:\n",
    "                best_match_score = score\n",
    "                best_match = page\n",
    "        u_boats_urls.append(wikipedia.page(best_match).url)\n",
    "        print(\"found page for\", boat)\n",
    "            # except exceptions.DisambiguationError:\n",
    "            #     print(f'Multiple pages found for {boat}')\n",
    "            #     no_metadata.append(boat)\n",
    "            # except exceptions.PageError:\n",
    "            #     print(f'No page found for {boat}')\n",
    "            #     no_metadata.append(boat)\n",
    "        # print(f'No page found for {boat}')\n",
    "        # no_metadata.append(boat)"
   ],
   "metadata": {
    "collapsed": false,
    "ExecuteTime": {
     "end_time": "2024-07-02T05:36:57.264892500Z",
     "start_time": "2024-07-02T05:36:56.384860700Z"
    }
   },
   "id": "bcbb4679c8a52609"
  },
  {
   "cell_type": "code",
   "execution_count": null,
   "outputs": [],
   "source": [
    "print(u_boats_urls[:10])\n",
    "print(no_metadata[:10])"
   ],
   "metadata": {
    "collapsed": false,
    "ExecuteTime": {
     "end_time": "2024-07-02T05:27:44.090794200Z",
     "start_time": "2024-07-02T05:27:44.090794200Z"
    }
   },
   "id": "c8ec452a6bed9f3b"
  },
  {
   "cell_type": "code",
   "execution_count": null,
   "outputs": [],
   "source": [],
   "metadata": {
    "collapsed": false,
    "ExecuteTime": {
     "start_time": "2024-07-02T05:27:44.090794200Z"
    }
   },
   "id": "6108552e411f6ff6"
  }
 ],
 "metadata": {
  "kernelspec": {
   "display_name": "Python 3",
   "language": "python",
   "name": "python3"
  },
  "language_info": {
   "codemirror_mode": {
    "name": "ipython",
    "version": 2
   },
   "file_extension": ".py",
   "mimetype": "text/x-python",
   "name": "python",
   "nbconvert_exporter": "python",
   "pygments_lexer": "ipython2",
   "version": "2.7.6"
  }
 },
 "nbformat": 4,
 "nbformat_minor": 5
}
