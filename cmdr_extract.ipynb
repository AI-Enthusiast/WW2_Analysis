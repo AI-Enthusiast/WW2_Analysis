{
 "cells": [
  {
   "cell_type": "code",
   "execution_count": 4,
   "id": "initial_id",
   "metadata": {
    "collapsed": true,
    "ExecuteTime": {
     "end_time": "2024-08-15T01:41:02.091870800Z",
     "start_time": "2024-08-15T01:41:02.064657600Z"
    }
   },
   "outputs": [],
   "source": [
    "import pandas as pd\n",
    "\n",
    "uboat_cleaned = pd.read_csv('uboats_cleaned.csv')"
   ]
  },
  {
   "cell_type": "code",
   "execution_count": 10,
   "outputs": [],
   "source": [
    "# only retain the uboat number and notable commanders\n",
    "uboat_cleaned = uboat_cleaned[['Name', 'Notable Commanders']]"
   ],
   "metadata": {
    "collapsed": false,
    "ExecuteTime": {
     "end_time": "2024-08-15T01:43:32.691198100Z",
     "start_time": "2024-08-15T01:43:32.681761500Z"
    }
   },
   "id": "253fdf150c741a80"
  },
  {
   "cell_type": "code",
   "execution_count": 11,
   "outputs": [
    {
     "data": {
      "text/plain": "    Name                                 Notable Commanders\n0  U-1\\n                                     Klaus Ewerth\\n\n1  U-2\\n  Hans Heidtmann,Heinrich Liebe,Helmut Rosenbaum...\n2  U-3\\n  Joachim Schepke,Otto von Bülow,Hans-Hartwig Tr...\n3  U-4\\n                              Heinz-Otto Schultze\\n\n4  U-5\\n                     Heinrich Lehmann-Willenbrock\\n",
      "text/html": "<div>\n<style scoped>\n    .dataframe tbody tr th:only-of-type {\n        vertical-align: middle;\n    }\n\n    .dataframe tbody tr th {\n        vertical-align: top;\n    }\n\n    .dataframe thead th {\n        text-align: right;\n    }\n</style>\n<table border=\"1\" class=\"dataframe\">\n  <thead>\n    <tr style=\"text-align: right;\">\n      <th></th>\n      <th>Name</th>\n      <th>Notable Commanders</th>\n    </tr>\n  </thead>\n  <tbody>\n    <tr>\n      <th>0</th>\n      <td>U-1\\n</td>\n      <td>Klaus Ewerth\\n</td>\n    </tr>\n    <tr>\n      <th>1</th>\n      <td>U-2\\n</td>\n      <td>Hans Heidtmann,Heinrich Liebe,Helmut Rosenbaum...</td>\n    </tr>\n    <tr>\n      <th>2</th>\n      <td>U-3\\n</td>\n      <td>Joachim Schepke,Otto von Bülow,Hans-Hartwig Tr...</td>\n    </tr>\n    <tr>\n      <th>3</th>\n      <td>U-4\\n</td>\n      <td>Heinz-Otto Schultze\\n</td>\n    </tr>\n    <tr>\n      <th>4</th>\n      <td>U-5\\n</td>\n      <td>Heinrich Lehmann-Willenbrock\\n</td>\n    </tr>\n  </tbody>\n</table>\n</div>"
     },
     "execution_count": 11,
     "metadata": {},
     "output_type": "execute_result"
    }
   ],
   "source": [
    "uboat_cleaned.head()"
   ],
   "metadata": {
    "collapsed": false,
    "ExecuteTime": {
     "end_time": "2024-08-15T01:43:34.535503900Z",
     "start_time": "2024-08-15T01:43:34.524696600Z"
    }
   },
   "id": "bee3659ce2982e54"
  },
  {
   "cell_type": "code",
   "execution_count": 14,
   "outputs": [
    {
     "name": "stderr",
     "output_type": "stream",
     "text": [
      "<>:7: SyntaxWarning: \"is\" with a literal. Did you mean \"==\"?\n",
      "<>:7: SyntaxWarning: \"is\" with a literal. Did you mean \"==\"?\n",
      "C:\\Users\\corma\\AppData\\Local\\Temp\\ipykernel_14236\\2629908618.py:7: SyntaxWarning: \"is\" with a literal. Did you mean \"==\"?\n",
      "  if cmd is '':\n"
     ]
    },
    {
     "data": {
      "text/plain": "              Commander  Count\n3   Heinz-Otto Schultze      4\n8         Wolfgang Lüth      4\n0          Klaus Ewerth      3\n99       Herbert Werner      3\n34    Heinrich Schonder      3",
      "text/html": "<div>\n<style scoped>\n    .dataframe tbody tr th:only-of-type {\n        vertical-align: middle;\n    }\n\n    .dataframe tbody tr th {\n        vertical-align: top;\n    }\n\n    .dataframe thead th {\n        text-align: right;\n    }\n</style>\n<table border=\"1\" class=\"dataframe\">\n  <thead>\n    <tr style=\"text-align: right;\">\n      <th></th>\n      <th>Commander</th>\n      <th>Count</th>\n    </tr>\n  </thead>\n  <tbody>\n    <tr>\n      <th>3</th>\n      <td>Heinz-Otto Schultze</td>\n      <td>4</td>\n    </tr>\n    <tr>\n      <th>8</th>\n      <td>Wolfgang Lüth</td>\n      <td>4</td>\n    </tr>\n    <tr>\n      <th>0</th>\n      <td>Klaus Ewerth</td>\n      <td>3</td>\n    </tr>\n    <tr>\n      <th>99</th>\n      <td>Herbert Werner</td>\n      <td>3</td>\n    </tr>\n    <tr>\n      <th>34</th>\n      <td>Heinrich Schonder</td>\n      <td>3</td>\n    </tr>\n  </tbody>\n</table>\n</div>"
     },
     "execution_count": 14,
     "metadata": {},
     "output_type": "execute_result"
    }
   ],
   "source": [
    "cmd_dic = {} # commander: count\n",
    "for boat in uboat_cleaned['Notable Commanders']:\n",
    "    if type(boat) == str:\n",
    "        cmds = boat.split(', ')\n",
    "        for cmd in cmds:\n",
    "            cmd = cmd.replace('\\n', '')\n",
    "            if cmd is '':\n",
    "                continue\n",
    "            if cmd in cmd_dic:\n",
    "                cmd_dic[cmd] += 1\n",
    "            else:\n",
    "                cmd_dic[cmd] = 1\n",
    "\n",
    "# convert to dataframe\n",
    "cmd_df = pd.DataFrame(list(cmd_dic.items()), columns=['Commander', 'Count'])\n",
    "cmd_df = cmd_df.sort_values(by='Count', ascending=False)\n",
    "cmd_df.head()"
   ],
   "metadata": {
    "collapsed": false,
    "ExecuteTime": {
     "end_time": "2024-08-15T01:48:00.545400100Z",
     "start_time": "2024-08-15T01:48:00.500238400Z"
    }
   },
   "id": "173d668e2ee4a7f6"
  },
  {
   "cell_type": "code",
   "execution_count": null,
   "outputs": [],
   "source": [],
   "metadata": {
    "collapsed": false
   },
   "id": "882501f956ca6451"
  },
  {
   "cell_type": "markdown",
   "source": [
    "import matplotlib.pyplot as plt\n",
    "import seaborn as sns\n",
    "\n",
    "plt.figure(figsize=(10, 6))\n",
    "sns.barplot(x='Count', y='Commander', data=cmd_df[:10])\n",
    "plt.title('Top 10 Most Frequent U-Boat Commanders')\n",
    "plt.show()"
   ],
   "metadata": {
    "collapsed": false
   },
   "id": "634f246a4a882c25"
  },
  {
   "cell_type": "code",
   "execution_count": 16,
   "outputs": [
    {
     "data": {
      "text/plain": "169"
     },
     "execution_count": 16,
     "metadata": {},
     "output_type": "execute_result"
    }
   ],
   "source": [
    "len(cmd_df)"
   ],
   "metadata": {
    "collapsed": false,
    "ExecuteTime": {
     "end_time": "2024-08-15T01:50:16.055372300Z",
     "start_time": "2024-08-15T01:50:16.031285200Z"
    }
   },
   "id": "979372945601d2b8"
  },
  {
   "cell_type": "code",
   "execution_count": 17,
   "outputs": [],
   "source": [
    "cmd_df.to_csv('uboat_commanders.csv', index=False)"
   ],
   "metadata": {
    "collapsed": false,
    "ExecuteTime": {
     "end_time": "2024-08-15T01:50:24.973362500Z",
     "start_time": "2024-08-15T01:50:24.919962300Z"
    }
   },
   "id": "ce1dd6d5b8992388"
  }
 ],
 "metadata": {
  "kernelspec": {
   "display_name": "Python 3",
   "language": "python",
   "name": "python3"
  },
  "language_info": {
   "codemirror_mode": {
    "name": "ipython",
    "version": 2
   },
   "file_extension": ".py",
   "mimetype": "text/x-python",
   "name": "python",
   "nbconvert_exporter": "python",
   "pygments_lexer": "ipython2",
   "version": "2.7.6"
  }
 },
 "nbformat": 4,
 "nbformat_minor": 5
}
